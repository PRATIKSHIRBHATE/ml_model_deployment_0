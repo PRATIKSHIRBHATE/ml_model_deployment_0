{
 "cells": [
  {
   "cell_type": "markdown",
   "metadata": {},
   "source": [
    "source: https://towardsdatascience.com/deploy-your-machine-learning-model-as-a-rest-api-4fe96bf8ddcc"
   ]
  },
  {
   "cell_type": "markdown",
   "metadata": {},
   "source": [
    "## Part 1 - Train ML model and save it"
   ]
  },
  {
   "cell_type": "code",
   "execution_count": 3,
   "metadata": {},
   "outputs": [],
   "source": [
    "from sklearn import datasets\n",
    "from sklearn.tree import DecisionTreeClassifier\n",
    "from sklearn.model_selection import train_test_split\n",
    "from sklearn.metrics import accuracy_score\n",
    "import joblib"
   ]
  },
  {
   "cell_type": "code",
   "execution_count": 4,
   "metadata": {},
   "outputs": [],
   "source": [
    "def train_model():\n",
    "    iris_df = datasets.load_iris()\n",
    "\n",
    "    x = iris_df.data\n",
    "    y = iris_df.target\n",
    "\n",
    "    X_train, X_test, y_train, y_test = train_test_split(x, y, test_size=0.25)\n",
    "    dt = DecisionTreeClassifier().fit(X_train, y_train)\n",
    "    preds = dt.predict(X_test)\n",
    "\n",
    "    accuracy = accuracy_score(y_test, preds)\n",
    "    joblib.dump(dt, 'iris-model.model')\n",
    "    print('Model Training Finished.\\n\\tAccuracy obtained: {}'.format(accuracy))"
   ]
  },
  {
   "cell_type": "markdown",
   "metadata": {},
   "source": [
    "## Part 2 - Create a app.py script and execute it using terminal / command prompt"
   ]
  },
  {
   "cell_type": "code",
   "execution_count": 5,
   "metadata": {},
   "outputs": [],
   "source": [
    "import os\n",
    "from flask import Flask, jsonify, request\n",
    "from flask_restful import Api, Resource"
   ]
  },
  {
   "cell_type": "code",
   "execution_count": 6,
   "metadata": {},
   "outputs": [],
   "source": [
    "app = Flask(__name__)\n",
    "api = Api(app)"
   ]
  },
  {
   "cell_type": "code",
   "execution_count": 7,
   "metadata": {},
   "outputs": [
    {
     "name": "stdout",
     "output_type": "stream",
     "text": [
      "Model Training Finished.\n",
      "\tAccuracy obtained: 0.8157894736842105\n"
     ]
    }
   ],
   "source": [
    "if not os.path.isfile('iris-model.model'):\n",
    "    train_model()\n",
    "\n",
    "model = joblib.load('iris-model.model')"
   ]
  },
  {
   "cell_type": "code",
   "execution_count": 8,
   "metadata": {},
   "outputs": [],
   "source": [
    "class MakePrediction(Resource):\n",
    "    @staticmethod\n",
    "    def post():\n",
    "        posted_data = request.get_json()\n",
    "        sepal_length = posted_data['sepal_length']\n",
    "        sepal_width = posted_data['sepal_width']\n",
    "        petal_length = posted_data['petal_length']\n",
    "        petal_width = posted_data['petal_width']\n",
    "\n",
    "        prediction = model.predict([[sepal_length, sepal_width, petal_length, petal_width]])[0]\n",
    "        if prediction == 0:\n",
    "            predicted_class = 'Iris-setosa'\n",
    "        elif prediction == 1:\n",
    "            predicted_class = 'Iris-versicolor'\n",
    "        else:\n",
    "            predicted_class = 'Iris-virginica'\n",
    "\n",
    "        return jsonify({\n",
    "            'Prediction': predicted_class\n",
    "        })"
   ]
  },
  {
   "cell_type": "code",
   "execution_count": 9,
   "metadata": {},
   "outputs": [],
   "source": [
    "api.add_resource(MakePrediction, '/predict')"
   ]
  },
  {
   "cell_type": "code",
   "execution_count": 10,
   "metadata": {},
   "outputs": [
    {
     "name": "stdout",
     "output_type": "stream",
     "text": [
      " * Serving Flask app \"__main__\" (lazy loading)\n",
      " * Environment: production\n",
      "   WARNING: This is a development server. Do not use it in a production deployment.\n",
      "   Use a production WSGI server instead.\n",
      " * Debug mode: on\n"
     ]
    },
    {
     "name": "stderr",
     "output_type": "stream",
     "text": [
      " * Restarting with stat\n"
     ]
    },
    {
     "ename": "SystemExit",
     "evalue": "1",
     "output_type": "error",
     "traceback": [
      "An exception has occurred, use %tb to see the full traceback.\n",
      "\u001b[1;31mSystemExit\u001b[0m\u001b[1;31m:\u001b[0m 1\n"
     ]
    },
    {
     "name": "stderr",
     "output_type": "stream",
     "text": [
      "D:\\Users\\PShirbhate\\AppData\\Local\\Continuum\\anaconda3\\envs\\flask_env\\lib\\site-packages\\IPython\\core\\interactiveshell.py:2886: UserWarning: To exit: use 'exit', 'quit', or Ctrl-D.\n",
      "  warn(\"To exit: use 'exit', 'quit', or Ctrl-D.\", stacklevel=1)\n"
     ]
    }
   ],
   "source": [
    "if __name__ == '__main__':\n",
    "    app.run(debug=True)"
   ]
  },
  {
   "cell_type": "markdown",
   "metadata": {},
   "source": [
    "## Part 3 - Test using Postman - localhost:5000/predict"
   ]
  },
  {
   "cell_type": "markdown",
   "metadata": {},
   "source": [
    "Now open Postman and do the following:\n",
    "- Change the method to POST\n",
    "- Enter localhost:5000/predict as the URL\n",
    "- Inside the Body tab choose JSON\n",
    "- Enter some JSON for prediction"
   ]
  },
  {
   "cell_type": "markdown",
   "metadata": {},
   "source": [
    "{\n",
    "    \"sepal_length\":2,\n",
    "    \"sepal_width\":4.2,\n",
    "    \"petal_length\":1.5,\n",
    "    \"petal_width\":2.3\n",
    "}"
   ]
  },
  {
   "cell_type": "code",
   "execution_count": null,
   "metadata": {},
   "outputs": [],
   "source": []
  }
 ],
 "metadata": {
  "kernelspec": {
   "display_name": "Python 3",
   "language": "python",
   "name": "python3"
  },
  "language_info": {
   "codemirror_mode": {
    "name": "ipython",
    "version": 3
   },
   "file_extension": ".py",
   "mimetype": "text/x-python",
   "name": "python",
   "nbconvert_exporter": "python",
   "pygments_lexer": "ipython3",
   "version": "3.6.11"
  }
 },
 "nbformat": 4,
 "nbformat_minor": 4
}
